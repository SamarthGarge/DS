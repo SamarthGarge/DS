{
 "cells": [
  {
   "cell_type": "code",
   "execution_count": null,
   "metadata": {},
   "outputs": [],
   "source": [
    "# Practical 9 - Sentiment analysis, also known as opinion mining, is the process of determining the\n",
    "# emotional tone behind a series of words. It is a common NLP task used to identify the sentiment of\n",
    "# texts like reviews, social media posts, or news articles. Below is a simple Python program that\n",
    "# performs sentiment analysis using the NLTK library and the VADER sentiment analysis tool."
   ]
  },
  {
   "cell_type": "code",
   "execution_count": null,
   "metadata": {},
   "outputs": [],
   "source": [
    "# Import necessary libraries\n",
    "import nltk\n",
    "from nltk.sentiment import SentimentIntensityAnalyzer"
   ]
  },
  {
   "cell_type": "code",
   "execution_count": null,
   "metadata": {},
   "outputs": [],
   "source": [
    "# Download necessary NLTK resources\n",
    "nltk.download('vader_lexicon')"
   ]
  },
  {
   "cell_type": "code",
   "execution_count": null,
   "metadata": {},
   "outputs": [],
   "source": [
    "# Initialize the SentimentIntensityAnalyzer\n",
    "sia = SentimentIntensityAnalyzer()"
   ]
  },
  {
   "cell_type": "code",
   "execution_count": null,
   "metadata": {},
   "outputs": [],
   "source": [
    "# Example texts for sentiment analysis\n",
    "texts = [\n",
    "\"I love this product! It's absolutely amazing and worth every penny.\",\n",
    "\"This is the worst experience I've ever had. I will never come back.\",\n",
    "\"The movie was okay, not great but not terrible either.\",\n",
    "\"I am very happy with the service provided, totally satisfied.\",\n",
    "\"I'm disappointed. The quality is not what I expected.\",\n",
    "\"The book is interesting, but it has some dull moments.\",\n",
    "\"The support team is helpful and resolved my issue quickly.\"\n",
    "]"
   ]
  },
  {
   "cell_type": "code",
   "execution_count": null,
   "metadata": {},
   "outputs": [],
   "source": [
    "# Function to analyze sentiment\n",
    "def analyze_sentiment(text):\n",
    "    sentiment = sia.polarity_scores(text)\n",
    "    overall_sentiment = 'Positive' if sentiment['compound'] > 0 else 'Negative' if sentiment['compound'] <\n",
    "0 else 'Neutral'\n",
    "return sentiment, overall_sentiment"
   ]
  },
  {
   "cell_type": "code",
   "execution_count": null,
   "metadata": {},
   "outputs": [],
   "source": [
    "# Perform sentiment analysis on each text\n",
    "\n",
    "for text in texts:\n",
    "    print(f\"Text: {text}\")\n",
    "    sentiment_scores, overall_sentiment = analyze_sentiment(text)\n",
    "    print(f\"Sentiment Scores: {sentiment_scores}\")\n",
    "    print(f\"Overall Sentiment: {overall_sentiment}\\n\")"
   ]
  }
 ],
 "metadata": {
  "kernelspec": {
   "display_name": "Python 3",
   "language": "python",
   "name": "python3"
  },
  "language_info": {
   "name": "python",
   "version": "3.12.3"
  }
 },
 "nbformat": 4,
 "nbformat_minor": 2
}
