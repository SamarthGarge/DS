{
 "cells": [
  {
   "cell_type": "code",
   "execution_count": null,
   "metadata": {},
   "outputs": [],
   "source": [
    "# Practical 6 - Data from an online microlending platform has been collected. This data contains details\n",
    "# of the purpose for which the loans\n",
    "# would be used and how the loan is funded. Additional information on the country of loan recipient\n",
    "# and the poverty levels of\n",
    "# the country are also given.\n",
    "# Dataset name => lending dataset\n",
    "# Import necessary libraries\n",
    "\n",
    "import pandas as pd"
   ]
  },
  {
   "cell_type": "code",
   "execution_count": null,
   "metadata": {},
   "outputs": [],
   "source": [
    "# Load the data into a dataframe\n",
    "data = pd.read_csv('lendingdata.csv')"
   ]
  },
  {
   "cell_type": "code",
   "execution_count": null,
   "metadata": {},
   "outputs": [],
   "source": [
    "# Step 1: Determine the number of columns with 'object' data type\n",
    "object_columns = data.select_dtypes(include=['object']).columns\n",
    "num_object_columns = len(object_columns)\n",
    "print(f\"Number of columns with 'object' data type: {num_object_columns}\")\n",
    "print(f\"Columns with 'object' data type: {object_columns.tolist()}\")"
   ]
  },
  {
   "cell_type": "code",
   "execution_count": null,
   "metadata": {},
   "outputs": [],
   "source": [
    "# Step 2: Find the total number of missing values in the dataset\n",
    "total_missing_values = data.isnull().sum().sum()\n",
    "print(f\"Total number of missing values in the data set: {total_missing_values}\")"
   ]
  },
  {
   "cell_type": "code",
   "execution_count": null,
   "metadata": {},
   "outputs": [],
   "source": [
    "# Step 3: Identify and drop redundant columns\n",
    "# Assuming 'country_code' is redundant because 'country' is present\n",
    "columns_to_drop = ['country_code']\n",
    "data = data.drop(columns=columns_to_drop)\n",
    "print(f\"Columns after dropping redundant information: {data.columns.tolist()}\")"
   ]
  },
  {
   "cell_type": "code",
   "execution_count": null,
   "metadata": {},
   "outputs": [],
   "source": [
    "# Step 4: Calculate the third quartile value (Q3) of the variable 'loan_amount'\n",
    "third_quartile_value = data['loan_amount'].quantile(0.75)\n",
    "print(f\"Third quartile value of the variable 'loan_amount': {third_quartile_value}\")"
   ]
  },
  {
   "cell_type": "code",
   "execution_count": null,
   "metadata": {},
   "outputs": [],
   "source": [
    "# Step 5: Calculate the percentage split of different categories in 'repayment_interval'\n",
    "# Drop rows with missing values in 'repayment_interval'\n",
    "repayment_data = data['repayment_interval'].dropna()"
   ]
  },
  {
   "cell_type": "code",
   "execution_count": null,
   "metadata": {},
   "outputs": [],
   "source": [
    "# Calculate the percentage split of different categories\n",
    "percentage_split = repayment_data.value_counts(normalize=True) * 100\n",
    "\n",
    "print(\"Percentage split of different categories in 'repayment_interval':\")\n",
    "print(percentage_split)"
   ]
  },
  {
   "cell_type": "code",
   "execution_count": null,
   "metadata": {},
   "outputs": [],
   "source": [
    "# Step 6: Find the minimum loan amount disbursed in the Agriculture sector\n",
    "min_loan_amount_agriculture = data[data['sector'] == 'Agriculture']['loan_amount'].min()\n",
    "print(f\"Minimum loan amount disbursed in the Agriculture sector: {min_loan_amount_agriculture}\")"
   ]
  },
  {
   "cell_type": "code",
   "execution_count": null,
   "metadata": {},
   "outputs": [],
   "source": []
  }
 ],
 "metadata": {
  "kernelspec": {
   "display_name": "Python 3",
   "language": "python",
   "name": "python3"
  },
  "language_info": {
   "name": "python",
   "version": "3.12.3"
  }
 },
 "nbformat": 4,
 "nbformat_minor": 2
}
